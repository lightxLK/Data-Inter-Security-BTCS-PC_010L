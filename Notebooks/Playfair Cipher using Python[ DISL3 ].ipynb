{
 "cells": [
  {
   "cell_type": "markdown",
   "id": "a1544afa-8f33-475b-92e5-f9a40879dc81",
   "metadata": {},
   "source": [
    "<div style=\"text-align: center;\">\n",
    "    <h1>Implementation of Playfair Cipher using Python</h1>\n",
    "</div>"
   ]
  },
  {
   "cell_type": "code",
   "execution_count": 3,
   "id": "61ea1f1f",
   "metadata": {},
   "outputs": [
    {
     "name": "stdout",
     "output_type": "stream",
     "text": [
      "KGAAQVVGPE\n"
     ]
    }
   ],
   "source": [
    "def generate_key_matrix(key):\n",
    "  key = key.upper().replace('J', 'I')  # Replace 'J' with 'I'\n",
    "  key_list = list(key)\n",
    "  alphabet = 'ABCDEFGHIKLMNOPQRSTUVWXYZ'\n",
    "  for char in alphabet:\n",
    "    if char not in key_list:\n",
    "      key_list.append(char)\n",
    "\n",
    "  key_matrix = [key_list[i:i+5] for i in range(0, 25, 5)]\n",
    "  return key_matrix\n",
    "\n",
    "def locate_in_matrix(char, matrix):\n",
    "  for i in range(5):\n",
    "    for j in range(5):\n",
    "      if matrix[i][j] == char:\n",
    "        return i, j\n",
    "\n",
    "def encrypt(plaintext, key):\n",
    "  key_matrix = generate_key_matrix(key)\n",
    "  plaintext = plaintext.upper().replace('J', 'I')\n",
    "  plaintext = ''.join(plaintext.split(' '))  # Remove spaces\n",
    "\n",
    "  # Handle odd length plaintext\n",
    "  if len(plaintext) % 2 == 1:\n",
    "    plaintext += 'X'\n",
    "\n",
    "  ciphertext = ''\n",
    "  for i in range(0, len(plaintext), 2):\n",
    "    char1, char2 = plaintext[i], plaintext[i+1]\n",
    "    row1, col1 = locate_in_matrix(char1, key_matrix)\n",
    "    row2, col2 = locate_in_matrix(char2, key_matrix)\n",
    "\n",
    "    # Same row\n",
    "    if row1 == row2:\n",
    "      ciphertext += key_matrix[row1][(col1 + 1) % 5] + key_matrix[row2][(col2 + 1) % 5]\n",
    "    # Same column\n",
    "    elif col1 == col2:\n",
    "      ciphertext += key_matrix[(row1 + 1) % 5][col1] + key_matrix[(row2 + 1) % 5][col2]\n",
    "    # Different row and column\n",
    "    else:\n",
    "      ciphertext += key_matrix[row1][col2] + key_matrix[row2][col1]\n",
    "\n",
    "  return ciphertext\n",
    "\n",
    "# Example usage:\n",
    "plaintext = \"hello world\"\n",
    "key = \"playfair\"\n",
    "\n",
    "ciphertext = encrypt(plaintext, key)\n",
    "print(ciphertext)"
   ]
  },
  {
   "cell_type": "markdown",
   "id": "9fdf11b0-4fcc-4f9d-bde8-951fdd4bc19a",
   "metadata": {},
   "source": [
    "<div style=\"text-align: center;\">\n",
    "    <h3>Light || DS/22-26/20 </h3>\n",
    "</div>"
   ]
  }
 ],
 "metadata": {
  "kernelspec": {
   "display_name": "Python 3 (ipykernel)",
   "language": "python",
   "name": "python3"
  },
  "language_info": {
   "codemirror_mode": {
    "name": "ipython",
    "version": 3
   },
   "file_extension": ".py",
   "mimetype": "text/x-python",
   "name": "python",
   "nbconvert_exporter": "python",
   "pygments_lexer": "ipython3",
   "version": "3.12.6"
  }
 },
 "nbformat": 4,
 "nbformat_minor": 5
}
