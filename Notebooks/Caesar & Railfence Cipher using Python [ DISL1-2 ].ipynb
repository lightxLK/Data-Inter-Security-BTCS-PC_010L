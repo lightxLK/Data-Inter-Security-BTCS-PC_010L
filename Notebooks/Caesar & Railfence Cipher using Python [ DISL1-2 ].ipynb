{
 "cells": [
  {
   "cell_type": "markdown",
   "id": "f56cc879-dd9f-43e8-9c6c-66e428458656",
   "metadata": {},
   "source": [
    "<div style=\"text-align: center;\">\n",
    "    <h1>Implementation of Caesar Cipher using Python</h1>\n",
    "</div>"
   ]
  },
  {
   "cell_type": "code",
   "execution_count": 19,
   "id": "fd3a5765",
   "metadata": {},
   "outputs": [],
   "source": [
    "def caesar_cipher(text, shift):\n",
    "  \"\"\"Encrypts or decrypts a given text using the Caesar cipher.\n",
    "\n",
    "  Args:\n",
    "    text: The text to be encrypted or decrypted.\n",
    "    shift: The number of positions to shift the letters.\n",
    "\n",
    "  Returns:\n",
    "    The encrypted or decrypted text.\n",
    "  \"\"\"\n",
    "\n",
    "  result = \"\"\n",
    "\n",
    "  # Traverse through each character\n",
    "  for char in text:\n",
    "    # Encrypt uppercase characters\n",
    "    if char.isupper():\n",
    "      result += chr((ord(char) + shift - 65) % 26 + 65)\n",
    "    # Encrypt lowercase characters\n",
    "    elif char.islower():\n",
    "      result += chr((ord(char) + shift - 97) % 26 + 97)\n",
    "    # If it's not a letter, just add it to the result\n",
    "    else:\n",
    "      result += char\n",
    "\n",
    "  return result"
   ]
  },
  {
   "cell_type": "code",
   "execution_count": 20,
   "id": "7c7773a7",
   "metadata": {},
   "outputs": [
    {
     "name": "stdout",
     "output_type": "stream",
     "text": [
      "Encrypted text: KHOOR, ZRUOG!\n",
      "Decrypted text: HELLO, WORLD!\n"
     ]
    }
   ],
   "source": [
    "# Example usage:\n",
    "text = \"HELLO, WORLD!\"\n",
    "shift = 3\n",
    "\n",
    "encrypted_text = caesar_cipher(text, shift)\n",
    "print(\"Encrypted text:\", encrypted_text)\n",
    "\n",
    "decrypted_text = caesar_cipher(encrypted_text, -shift)\n",
    "print(\"Decrypted text:\", decrypted_text)"
   ]
  },
  {
   "cell_type": "markdown",
   "id": "e277352a-7864-4690-92da-0578b316feb7",
   "metadata": {},
   "source": [
    "<div style=\"text-align: center;\">\n",
    "    <h1>Implementation of Railfence Cipher using Python</h1>\n",
    "</div>"
   ]
  },
  {
   "cell_type": "code",
   "execution_count": 21,
   "id": "b0c9f946",
   "metadata": {},
   "outputs": [],
   "source": [
    "def rail_fence_cipher(text, key):\n",
    "  \"\"\"Encrypts or decrypts a given text using the Rail Fence cipher.\n",
    "\n",
    "  Args:\n",
    "    text: The text to be encrypted or decrypted.\n",
    "    key: The number of rails.\n",
    "\n",
    "  Returns:\n",
    "    The encrypted or decrypted text.\n",
    "  \"\"\"\n",
    "\n",
    "  if key <= 0 or not isinstance(key, int):\n",
    "    raise ValueError(\"Key must be a positive integer\")\n",
    "\n",
    "  rail = [[] for _ in range(key)]\n",
    "  dir_down = True\n",
    "  row, col = 0, 0\n",
    "\n",
    "  # Encryption\n",
    "  for char in text:\n",
    "    rail[row].append(char)\n",
    "    row += 1 if dir_down else -1\n",
    "    if row == key - 1:\n",
    "      dir_down = False\n",
    "    elif row == 0:\n",
    "      dir_down = True\n",
    "\n",
    "  result = \"\"\n",
    "  for row in rail:\n",
    "    result += \"\".join(row)\n",
    "\n",
    "  return result"
   ]
  },
  {
   "cell_type": "code",
   "execution_count": 22,
   "id": "1876ad16",
   "metadata": {},
   "outputs": [
    {
     "name": "stdout",
     "output_type": "stream",
     "text": [
      "Encrypted text: GSGSEKFREKEOE\n"
     ]
    }
   ],
   "source": [
    "text = \"GEEKSFORGEEKS\"\n",
    "key = 3\n",
    "\n",
    "encrypted_text = rail_fence_cipher(text, key)\n",
    "print(\"Encrypted text:\", encrypted_text)\n",
    "\n",
    "# Decryption is more complex and requires reconstructing the rails\n",
    "# ..."
   ]
  },
  {
   "cell_type": "markdown",
   "id": "d81cf852-728f-4f57-b873-f4c46034e214",
   "metadata": {},
   "source": [
    "<div style=\"text-align: center;\">\n",
    "    <h3>Light || DS/22-26/20 </h3>\n",
    "</div>"
   ]
  },
  {
   "cell_type": "code",
   "execution_count": null,
   "id": "0930d7b1-3c6b-4ea6-9d95-c2bae6f2f854",
   "metadata": {},
   "outputs": [],
   "source": []
  }
 ],
 "metadata": {
  "kernelspec": {
   "display_name": "Python 3 (ipykernel)",
   "language": "python",
   "name": "python3"
  },
  "language_info": {
   "codemirror_mode": {
    "name": "ipython",
    "version": 3
   },
   "file_extension": ".py",
   "mimetype": "text/x-python",
   "name": "python",
   "nbconvert_exporter": "python",
   "pygments_lexer": "ipython3",
   "version": "3.12.6"
  }
 },
 "nbformat": 4,
 "nbformat_minor": 5
}
